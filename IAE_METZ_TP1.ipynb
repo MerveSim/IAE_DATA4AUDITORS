{
  "nbformat": 4,
  "nbformat_minor": 0,
  "metadata": {
    "colab": {
      "provenance": [],
      "authorship_tag": "ABX9TyOfArn7+rBZbrfE8VpLxwSM",
      "include_colab_link": true
    },
    "kernelspec": {
      "name": "python3",
      "display_name": "Python 3"
    },
    "language_info": {
      "name": "python"
    }
  },
  "cells": [
    {
      "cell_type": "markdown",
      "metadata": {
        "id": "view-in-github",
        "colab_type": "text"
      },
      "source": [
        "<a href=\"https://colab.research.google.com/github/MerveSim/IAE_DATA4AUDITORS/blob/main/IAE_METZ_TP1.ipynb\" target=\"_parent\"><img src=\"https://colab.research.google.com/assets/colab-badge.svg\" alt=\"Open In Colab\"/></a>"
      ]
    },
    {
      "cell_type": "code",
      "execution_count": null,
      "metadata": {
        "colab": {
          "base_uri": "https://localhost:8080/"
        },
        "id": "eUzvuAohsV2q",
        "outputId": "2bd696f5-3ea0-4dd7-fcfc-dfd739406be5"
      },
      "outputs": [
        {
          "output_type": "stream",
          "name": "stdout",
          "text": [
            "Helo World! IAE METZ DATA 4 Auditors\n"
          ]
        }
      ],
      "source": [
        "#introduction à PYTHON\n",
        "\n",
        "print('Helo World! IAE METZ DATA 4 Auditors')"
      ]
    },
    {
      "cell_type": "markdown",
      "source": [
        "#simple examples\n",
        "## sous titres\n",
        "### sous sous titres\n",
        "nous allons voir les bases de PYTHON\n"
      ],
      "metadata": {
        "id": "_4XlN2IBtHok"
      }
    },
    {
      "cell_type": "code",
      "source": [
        "# on va définir des variables\n",
        "prenom = 'Matt' #est du texte c'est donc un STRING\n",
        "Salaire_de_stage= 1711 #INTEGER c'est un ENTIER NATUREL\n",
        "Salaire_net = 1680.95 # FLOAT = chiffre à virgule\n"
      ],
      "metadata": {
        "id": "0tGTpwWFte09"
      },
      "execution_count": null,
      "outputs": []
    },
    {
      "cell_type": "code",
      "source": [
        "print(f\"Je m'appelle {prenom} et je gagnerai {Salaire_de_stage}\")\n"
      ],
      "metadata": {
        "colab": {
          "base_uri": "https://localhost:8080/"
        },
        "id": "2F7zZaiqvv5H",
        "outputId": "0c88042c-cc92-462f-a9fa-e907f695a8d6"
      },
      "execution_count": null,
      "outputs": [
        {
          "output_type": "stream",
          "name": "stdout",
          "text": [
            "Je m'appelle Matt et je gagnerai 1711\n"
          ]
        }
      ]
    },
    {
      "cell_type": "code",
      "source": [
        "# ARITHMETIC +++\n",
        "\n",
        "debit1 = 157000\n",
        "debit2 = 1711\n",
        "Credit = 157000"
      ],
      "metadata": {
        "id": "55l2jejRwuUC"
      },
      "execution_count": null,
      "outputs": []
    },
    {
      "cell_type": "code",
      "source": [
        "debit1+debit2"
      ],
      "metadata": {
        "colab": {
          "base_uri": "https://localhost:8080/"
        },
        "id": "8mDxEIqlxA_t",
        "outputId": "4364b310-0eeb-47bc-d8e0-67e49216007e"
      },
      "execution_count": null,
      "outputs": [
        {
          "output_type": "execute_result",
          "data": {
            "text/plain": [
              "158711"
            ]
          },
          "metadata": {},
          "execution_count": 16
        }
      ]
    },
    {
      "cell_type": "code",
      "source": [
        "a= debit1\n",
        "b= debit2"
      ],
      "metadata": {
        "id": "J0OIFy5UxXj5"
      },
      "execution_count": null,
      "outputs": []
    },
    {
      "cell_type": "code",
      "source": [
        "debit1, debit2\n",
        "print(f\"SUM : {debit1+debit2}, DELTA : {a-b}, Produit: {a*b}, division: {a/b}\")"
      ],
      "metadata": {
        "colab": {
          "base_uri": "https://localhost:8080/"
        },
        "id": "05te21NIxQ44",
        "outputId": "609387ee-274c-46f6-fa37-6bdc1571eb46"
      },
      "execution_count": null,
      "outputs": [
        {
          "output_type": "stream",
          "name": "stdout",
          "text": [
            "SUM : 158711, DELTA : 155289, Produit: 268627000, division: 91.75920514319111\n"
          ]
        }
      ]
    },
    {
      "cell_type": "code",
      "source": [
        "print(f\"Diviion Integer: {a//b}\")"
      ],
      "metadata": {
        "colab": {
          "base_uri": "https://localhost:8080/"
        },
        "id": "CPqRY_gZyQzf",
        "outputId": "cabd9ea9-00b4-4a7b-e1f6-d80f757d36f6"
      },
      "execution_count": null,
      "outputs": [
        {
          "output_type": "stream",
          "name": "stdout",
          "text": [
            "Diviion Integer: 91\n"
          ]
        }
      ]
    },
    {
      "cell_type": "code",
      "source": [
        "# LIST (et LISTE en FR)\n",
        "banks=[\"BDL\",\"BGL\",\"BNP\", \"BIL\"]\n",
        "banks[2]"
      ],
      "metadata": {
        "colab": {
          "base_uri": "https://localhost:8080/",
          "height": 35
        },
        "id": "cWHlwRNAye5a",
        "outputId": "3585720e-7d94-4229-e61a-3d909161dceb"
      },
      "execution_count": null,
      "outputs": [
        {
          "output_type": "execute_result",
          "data": {
            "text/plain": [
              "'BNP'"
            ],
            "application/vnd.google.colaboratory.intrinsic+json": {
              "type": "string"
            }
          },
          "metadata": {},
          "execution_count": 22
        }
      ]
    },
    {
      "cell_type": "code",
      "source": [
        "# DICTIONNAIRE\n",
        "# Non-ordonné et PAIRES-CLE\n",
        "valorisation= {\"nom\": \"Nike\", \"actif\": 37, \"passif\": 34}\n"
      ],
      "metadata": {
        "id": "MhUDQx6py8z5"
      },
      "execution_count": null,
      "outputs": []
    },
    {
      "cell_type": "code",
      "source": [
        "print(f\"La valorisation de {valorisation['nom']} est avec un actif \")"
      ],
      "metadata": {
        "colab": {
          "base_uri": "https://localhost:8080/"
        },
        "id": "SWQrsx0i0BBm",
        "outputId": "dc04065f-7f81-4474-d725-2031781ac30c"
      },
      "execution_count": null,
      "outputs": [
        {
          "output_type": "stream",
          "name": "stdout",
          "text": [
            "La valorisation de Nike\n"
          ]
        }
      ]
    },
    {
      "cell_type": "markdown",
      "source": [
        "# Exemples pour les auditeurs\n",
        "\n",
        "Etude de cas pour l'audit, de ma société.\n"
      ],
      "metadata": {
        "id": "RY3z2gen64RI"
      }
    },
    {
      "cell_type": "code",
      "source": [
        "# Cellule des variables\n",
        "revenus = 100000\n",
        "depenses = 75000\n",
        "taux_imposition_francais= 0.27\n",
        "taux_imposition_luxembourgeois = 0.17\n",
        "taux_imposition_irelande = 0.125\n"
      ],
      "metadata": {
        "id": "FTWh7NQt7Nht"
      },
      "execution_count": null,
      "outputs": []
    },
    {
      "cell_type": "code",
      "source": [
        "# Cellule des calculs\n",
        "benefice = revenus - depenses\n",
        "impot_en_france = benefice * taux_imposition_francais\n",
        "impot_au_lux = taux_imposition_luxembourgeois * benefice\n",
        "impot_en_ire = taux_imposition_irelande * benefice\n",
        "benefice_net_fr = benefice - impot_en_france\n",
        "\n"
      ],
      "metadata": {
        "id": "yAG_ARec7rIL"
      },
      "execution_count": null,
      "outputs": []
    },
    {
      "cell_type": "code",
      "source": [
        "#Cellule des checks/prints : calcul en direct\n",
        "print(\"impot à payer en France\", taux_imposition_francais * benefice, \"$\")"
      ],
      "metadata": {
        "colab": {
          "base_uri": "https://localhost:8080/"
        },
        "id": "fRavJYs8LuBY",
        "outputId": "9b0e9850-346d-4cd6-8a3b-ba53bacd9686"
      },
      "execution_count": null,
      "outputs": [
        {
          "output_type": "stream",
          "name": "stdout",
          "text": [
            "impot à payer en France 6750.0 $\n"
          ]
        }
      ]
    },
    {
      "cell_type": "code",
      "source": [
        "#Cellule des checks/prints : calcul préparé en amont\n",
        "print(\"impot à payer en France\", impot_en_france, \"€\")"
      ],
      "metadata": {
        "colab": {
          "base_uri": "https://localhost:8080/"
        },
        "id": "ahR3WzczMk53",
        "outputId": "6ebbd642-1122-4e0a-c772-eef175ffc54a"
      },
      "execution_count": null,
      "outputs": [
        {
          "output_type": "stream",
          "name": "stdout",
          "text": [
            "impot à payer en France 6750.0 €\n"
          ]
        }
      ]
    },
    {
      "cell_type": "code",
      "source": [
        "# Comparaison entre ireland , luxembourg\n",
        "print(\"on compare au Luxembourg\", taux_imposition_luxembourgeois * benefice, \"€\", \"vs en ireland\", taux_imposition_irelande * benefice , \"€\")\n"
      ],
      "metadata": {
        "colab": {
          "base_uri": "https://localhost:8080/"
        },
        "id": "_4Gc5o03M3xW",
        "outputId": "b20ba17b-cfe0-4f40-d235-40d7168c0568"
      },
      "execution_count": null,
      "outputs": [
        {
          "output_type": "stream",
          "name": "stdout",
          "text": [
            "on compare au Luxembourg 4250.0 € vs en ireland 3125.0 €\n"
          ]
        }
      ]
    },
    {
      "cell_type": "code",
      "source": [
        "impot_en_france - taux_imposition_luxembourgeois * benefice"
      ],
      "metadata": {
        "colab": {
          "base_uri": "https://localhost:8080/"
        },
        "id": "klzQ88frOaoZ",
        "outputId": "2f1655f5-c667-4f33-c98c-5edb005987a7"
      },
      "execution_count": null,
      "outputs": [
        {
          "output_type": "execute_result",
          "data": {
            "text/plain": [
              "2500.0"
            ]
          },
          "metadata": {},
          "execution_count": 54
        }
      ]
    },
    {
      "cell_type": "code",
      "source": [
        "impot_en_france - impot_au_lux"
      ],
      "metadata": {
        "colab": {
          "base_uri": "https://localhost:8080/"
        },
        "id": "leL34MEvO7JA",
        "outputId": "254ab580-e056-4557-e999-1c3aea6275de"
      },
      "execution_count": null,
      "outputs": [
        {
          "output_type": "execute_result",
          "data": {
            "text/plain": [
              "2500.0"
            ]
          },
          "metadata": {},
          "execution_count": 55
        }
      ]
    },
    {
      "cell_type": "markdown",
      "source": [
        "# Structures de Contrôles"
      ],
      "metadata": {
        "id": "HziN-K_JPOXR"
      }
    },
    {
      "cell_type": "code",
      "source": [
        "# CONDITIONS (if, elif, else)\n",
        "if benefice_net_fr >0:\n",
        "  print(\"L'entreprise réalise un bénéfice net. Un bénéf de\", benefice_net_fr, \"€\")\n",
        "elif benefice_net_fr==0:\n",
        "  print(\"L'entreprise est à l'équilibre\")\n",
        "else:\n",
        "  print(\"L'entreprise réalise une perte nette\")"
      ],
      "metadata": {
        "colab": {
          "base_uri": "https://localhost:8080/"
        },
        "id": "kYD6mY6UPROS",
        "outputId": "1060a50b-0b90-44a7-9d6e-0c34b6d1e63c"
      },
      "execution_count": null,
      "outputs": [
        {
          "output_type": "stream",
          "name": "stdout",
          "text": [
            "L'entreprise réalise un bénéfice net. Un bénéf de 18250.0 €\n"
          ]
        }
      ]
    },
    {
      "cell_type": "markdown",
      "source": [
        "IMPORTATION DES BIBLIOTHEQUES"
      ],
      "metadata": {
        "id": "ILPZ3Q8nWAjB"
      }
    },
    {
      "cell_type": "markdown",
      "source": [
        "Les packages se différencient en 2 grandes catégories:\n",
        "- ceux outils : contenant des fonctions\n",
        "- ceux de données : contenant des données/valeurs"
      ],
      "metadata": {
        "id": "de66me5TWEgE"
      }
    },
    {
      "cell_type": "code",
      "source": [
        "# le package d'outils le plus répandu en python est PANDAS ( il y a aussi POLARS)\n",
        "import pandas as pd"
      ],
      "metadata": {
        "id": "bSsvDyziWAMb"
      },
      "execution_count": 1,
      "outputs": []
    },
    {
      "cell_type": "code",
      "source": [
        "# le package \"données\" le plus répandu en Python x FINANCE est ... YAHOO! Finance\n",
        "import yfinance as yf"
      ],
      "metadata": {
        "id": "Va0elaq8WoNa"
      },
      "execution_count": 2,
      "outputs": []
    },
    {
      "cell_type": "code",
      "source": [
        "# BLOCK : IMPORTATION DES PACKAGES\n",
        "import yfinance as yf\n",
        "import pandas as pd\n",
        "import matplotlib.pyplot as plt\n",
        "# dans les packages \"outils\" vous pouvez SOUS SELECTIONNER LE CHAPITRE"
      ],
      "metadata": {
        "id": "roX7ioqTXhEJ"
      },
      "execution_count": 3,
      "outputs": []
    },
    {
      "cell_type": "code",
      "source": [
        "# BLOCK : VARIABLES\n",
        "# pour une comparaison d'indices selon les pays\n",
        "france_symbol = 'EWQ' #iShares MSCI France ETF\n",
        "ireland_symbol = 'EWK' # iShares MSCI Ireland ETF\n",
        "luxembourg_symbol = 'SPY' # S&P 500 son ETF"
      ],
      "metadata": {
        "id": "w8o2WBExX5pb"
      },
      "execution_count": 6,
      "outputs": []
    },
    {
      "cell_type": "code",
      "source": [
        "# BLOCK : TIME FRAMD\n",
        "start_date = '2010-01-01'\n",
        "end_date = '2025-01-01'\n"
      ],
      "metadata": {
        "id": "yasXnUb7Yhuv"
      },
      "execution_count": 7,
      "outputs": []
    },
    {
      "cell_type": "code",
      "source": [
        "# telechargement des données historiques de YFINANCE pour chaque pays\n",
        "france_data = yf.download(france_symbol, start=start_date, end=end_date)\n",
        "ireland_data = yf.download(ireland_symbol, start=start_date, end=end_date)\n",
        "lux_data = yf.download(luxembourg_symbol, start=start_date, end=end_date)"
      ],
      "metadata": {
        "colab": {
          "base_uri": "https://localhost:8080/"
        },
        "id": "_rI4lvdsZoUb",
        "outputId": "98df3d63-0326-46c3-81b1-03d13eb0c9cf"
      },
      "execution_count": 15,
      "outputs": [
        {
          "output_type": "stream",
          "name": "stderr",
          "text": [
            "[*********************100%***********************]  1 of 1 completed\n",
            "[*********************100%***********************]  1 of 1 completed\n",
            "[*********************100%***********************]  1 of 1 completed\n"
          ]
        }
      ]
    },
    {
      "cell_type": "code",
      "source": [
        "print(france_data)\n"
      ],
      "metadata": {
        "colab": {
          "base_uri": "https://localhost:8080/"
        },
        "id": "VxVNrbe6aEAj",
        "outputId": "2f9f25f7-94d0-4b98-9e95-63198bf95995"
      },
      "execution_count": 9,
      "outputs": [
        {
          "output_type": "stream",
          "name": "stdout",
          "text": [
            "Price           Close       High        Low       Open  Volume\n",
            "Ticker            EWQ        EWQ        EWQ        EWQ     EWQ\n",
            "Date                                                          \n",
            "2010-01-04  17.787550  17.827417  17.641368  17.641368   97400\n",
            "2010-01-05  17.741041  17.867287  17.674595  17.847354  164100\n",
            "2010-01-06  17.834061  17.840705  17.687880  17.734392  117300\n",
            "2010-01-07  17.754322  17.787546  17.634721  17.648009   87500\n",
            "2010-01-08  18.000174  18.006818  17.760968  17.787547  155400\n",
            "...               ...        ...        ...        ...     ...\n",
            "2024-12-24  35.970001  36.009998  35.619999  35.730000  187100\n",
            "2024-12-26  36.119999  36.200001  35.939999  35.959999  216600\n",
            "2024-12-27  36.060001  36.139999  35.900002  35.959999  758900\n",
            "2024-12-30  35.810001  35.910000  35.650002  35.900002  361400\n",
            "2024-12-31  35.880001  36.169998  35.799999  36.169998  401800\n",
            "\n",
            "[3774 rows x 5 columns]\n"
          ]
        }
      ]
    },
    {
      "cell_type": "code",
      "source": [
        "# BLOCK : ANALYSE DES DATAFRAME\n",
        "# il y a des jours fériés donc il y a des valeurs nulles\n",
        "france_data.isnull().sum()\n",
        "# DATA_FRAME . FUNCTION_NAME()\n"
      ],
      "metadata": {
        "colab": {
          "base_uri": "https://localhost:8080/",
          "height": 272
        },
        "id": "8b1jRZv1ar78",
        "outputId": "c2869660-6174-42eb-eb63-33f57d5ff7ae"
      },
      "execution_count": 11,
      "outputs": [
        {
          "output_type": "execute_result",
          "data": {
            "text/plain": [
              "Price   Ticker\n",
              "Close   EWQ       0\n",
              "High    EWQ       0\n",
              "Low     EWQ       0\n",
              "Open    EWQ       0\n",
              "Volume  EWQ       0\n",
              "dtype: int64"
            ],
            "text/html": [
              "<div>\n",
              "<style scoped>\n",
              "    .dataframe tbody tr th:only-of-type {\n",
              "        vertical-align: middle;\n",
              "    }\n",
              "\n",
              "    .dataframe tbody tr th {\n",
              "        vertical-align: top;\n",
              "    }\n",
              "\n",
              "    .dataframe thead th {\n",
              "        text-align: right;\n",
              "    }\n",
              "</style>\n",
              "<table border=\"1\" class=\"dataframe\">\n",
              "  <thead>\n",
              "    <tr style=\"text-align: right;\">\n",
              "      <th></th>\n",
              "      <th></th>\n",
              "      <th>0</th>\n",
              "    </tr>\n",
              "    <tr>\n",
              "      <th>Price</th>\n",
              "      <th>Ticker</th>\n",
              "      <th></th>\n",
              "    </tr>\n",
              "  </thead>\n",
              "  <tbody>\n",
              "    <tr>\n",
              "      <th>Close</th>\n",
              "      <th>EWQ</th>\n",
              "      <td>0</td>\n",
              "    </tr>\n",
              "    <tr>\n",
              "      <th>High</th>\n",
              "      <th>EWQ</th>\n",
              "      <td>0</td>\n",
              "    </tr>\n",
              "    <tr>\n",
              "      <th>Low</th>\n",
              "      <th>EWQ</th>\n",
              "      <td>0</td>\n",
              "    </tr>\n",
              "    <tr>\n",
              "      <th>Open</th>\n",
              "      <th>EWQ</th>\n",
              "      <td>0</td>\n",
              "    </tr>\n",
              "    <tr>\n",
              "      <th>Volume</th>\n",
              "      <th>EWQ</th>\n",
              "      <td>0</td>\n",
              "    </tr>\n",
              "  </tbody>\n",
              "</table>\n",
              "</div><br><label><b>dtype:</b> int64</label>"
            ]
          },
          "metadata": {},
          "execution_count": 11
        }
      ]
    },
    {
      "cell_type": "code",
      "source": [
        "#calcul des rdt quotidiens pour chacun des fonds\n",
        "lux_return = lux_data.pct_change().dropna()\n",
        "ireland_return=ireland_data.pct_change().dropna()\n",
        "france_return=france_data.pct_change().dropna()"
      ],
      "metadata": {
        "id": "i1y9SM58bDzZ"
      },
      "execution_count": 17,
      "outputs": []
    },
    {
      "cell_type": "code",
      "source": [
        "# calcul de la rentabilité cumulative des fonds sur une période\n",
        "lux_cum_return = (1 + lux_return).cumprod()\n",
        "ireland_cum_return = (1 + ireland_return).cumprod()\n",
        "france_cum_return = (1 + france_return).cumprod()"
      ],
      "metadata": {
        "id": "ch44aPV-eFtl"
      },
      "execution_count": 18,
      "outputs": []
    },
    {
      "cell_type": "code",
      "source": [
        "# BLOCK : GRAPHIQUES\n",
        "# présentation à des investisseurs des rdt via un dataframe\n",
        "print(lux_data.head())\n",
        "print(ireland_data.head())\n",
        "print(france_data.head())"
      ],
      "metadata": {
        "colab": {
          "base_uri": "https://localhost:8080/"
        },
        "id": "ln4IFPQaeUe5",
        "outputId": "49238924-bc7b-461f-881c-ef6d47fb206f"
      },
      "execution_count": 19,
      "outputs": [
        {
          "output_type": "stream",
          "name": "stdout",
          "text": [
            "Price           Close       High        Low       Open     Volume\n",
            "Ticker            SPY        SPY        SPY        SPY        SPY\n",
            "Date                                                             \n",
            "2010-01-04  86.026436  86.071979  84.644912  85.297721  118944600\n",
            "2010-01-05  86.254173  86.292130  85.662092  85.973318  111579900\n",
            "2010-01-06  86.314919  86.527460  86.102377  86.170692  116074400\n",
            "2010-01-07  86.679253  86.785523  85.912581  86.155486  131091100\n",
            "2010-01-08  86.967743  87.005699  86.276984  86.451569  126402800\n",
            "Price          Close      High       Low      Open  Volume\n",
            "Ticker           EWK       EWK       EWK       EWK     EWK\n",
            "Date                                                      \n",
            "2010-01-04  8.644099  8.729102  8.572174  8.572174  329400\n",
            "2010-01-05  8.748718  8.781412  8.683331  8.729102  451600\n",
            "2010-01-06  8.801028  8.801028  8.689871  8.689871   71800\n",
            "2010-01-07  8.742181  8.761797  8.696410  8.742181   46000\n",
            "2010-01-08  8.781411  8.801027  8.696409  8.696409  391700\n",
            "Price           Close       High        Low       Open  Volume\n",
            "Ticker            EWQ        EWQ        EWQ        EWQ     EWQ\n",
            "Date                                                          \n",
            "2010-01-04  17.787550  17.827417  17.641368  17.641368   97400\n",
            "2010-01-05  17.741041  17.867287  17.674595  17.847354  164100\n",
            "2010-01-06  17.834061  17.840705  17.687880  17.734392  117300\n",
            "2010-01-07  17.754322  17.787546  17.634721  17.648009   87500\n",
            "2010-01-08  18.000174  18.006818  17.760968  17.787547  155400\n"
          ]
        }
      ]
    }
  ]
}